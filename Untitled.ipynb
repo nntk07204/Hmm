{
 "cells": [
  {
   "cell_type": "markdown",
   "id": "681f4067-7045-45c8-95a8-67a07e7d14a1",
   "metadata": {
    "tags": []
   },
   "source": [
    "<h1> My Jupyter Notebook on IBM Watson Studio<h1>"
   ]
  },
  {
   "cell_type": "markdown",
   "id": "87cb3c39-c40a-4842-a10d-809c0deee47a",
   "metadata": {},
   "source": [
    "<b> Nguyen The Long<b>\n",
    "    Student"
   ]
  },
  {
   "cell_type": "markdown",
   "id": "7f1239e4-f4af-4660-8fd4-9c1878b450c0",
   "metadata": {},
   "source": [
    "<i> I am interested in data science because it can help me to find a job someday <i>"
   ]
  },
  {
   "cell_type": "markdown",
   "id": "db84b879-2e24-4027-9d6d-38f0c56b0886",
   "metadata": {},
   "source": [
    "<h3> My code helped me to write \"Hello World\" <h3>"
   ]
  },
  {
   "cell_type": "code",
   "execution_count": null,
   "id": "cb583fef-0a71-4a59-bd3d-a9a7e7cf38ae",
   "metadata": {
    "tags": []
   },
   "outputs": [],
   "source": [
    "print(\"Hello World\")"
   ]
  },
  {
   "cell_type": "markdown",
   "id": "c7eb3914-a73a-4ac9-a4a2-33ee084bb768",
   "metadata": {},
   "source": [
    "\n",
    "\n"
   ]
  },
  {
   "cell_type": "code",
   "execution_count": null,
   "id": "9a2ed293-a616-412a-b864-6d781642c047",
   "metadata": {},
   "outputs": [],
   "source": []
  }
 ],
 "metadata": {
  "kernelspec": {
   "display_name": "Python",
   "language": "python",
   "name": "conda-env-python-py"
  },
  "language_info": {
   "codemirror_mode": {
    "name": "ipython",
    "version": 3
   },
   "file_extension": ".py",
   "mimetype": "text/x-python",
   "name": "python",
   "nbconvert_exporter": "python",
   "pygments_lexer": "ipython3",
   "version": "3.7.12"
  }
 },
 "nbformat": 4,
 "nbformat_minor": 5
}
